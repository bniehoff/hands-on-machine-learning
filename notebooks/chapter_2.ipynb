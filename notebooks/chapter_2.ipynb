{
 "cells": [
  {
   "cell_type": "code",
   "execution_count": 1,
   "metadata": {},
   "outputs": [],
   "source": [
    "import sys\n",
    "import pathlib\n",
    "\n",
    "scripts_dir = pathlib.Path.cwd().parent / 'scripts'\n",
    "datasets_dir = pathlib.Path.cwd().parent / 'datasets'\n",
    "\n",
    "housing_dir = datasets_dir / 'housing'\n",
    "housing_csv = housing_dir / 'housing.csv'\n",
    "\n",
    "if not housing_csv.is_file():\n",
    "    sys.path.append(str(scripts_dir))\n",
    "    import fetch_datasets\n",
    "    fetch_datasets.housing(housing_dir)\n",
    "    sys.path.pop()"
   ]
  },
  {
   "cell_type": "code",
   "execution_count": null,
   "metadata": {},
   "outputs": [],
   "source": []
  }
 ],
 "metadata": {
  "interpreter": {
   "hash": "b0aeacb5ee2507ec60641d2b436d08e5be4775192f9acba11f7cb25afc254c27"
  },
  "kernelspec": {
   "display_name": "Python 3.9.7 ('.venv': venv)",
   "language": "python",
   "name": "python3"
  },
  "language_info": {
   "codemirror_mode": {
    "name": "ipython",
    "version": 3
   },
   "file_extension": ".py",
   "mimetype": "text/x-python",
   "name": "python",
   "nbconvert_exporter": "python",
   "pygments_lexer": "ipython3",
   "version": "3.9.7"
  },
  "orig_nbformat": 4
 },
 "nbformat": 4,
 "nbformat_minor": 2
}
